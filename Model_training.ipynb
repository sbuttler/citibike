{
 "cells": [
  {
   "cell_type": "code",
   "execution_count": 1,
   "id": "9e298bde-2325-48b7-8c8a-b6f44162bfe7",
   "metadata": {},
   "outputs": [],
   "source": [
    "# enable autocomplete\n",
    "%config Completer.use_jedi = False"
   ]
  },
  {
   "cell_type": "code",
   "execution_count": 91,
   "id": "dcd12cca-5b44-4b77-b961-39dc32f7ab1f",
   "metadata": {},
   "outputs": [],
   "source": [
    "import pandas as pd\n",
    "import numpy as np\n",
    "\n",
    "\n",
    "\n",
    "from sklearn.compose import ColumnTransformer\n",
    "from sklearn.pipeline import Pipeline\n",
    "from sklearn.preprocessing import StandardScaler, OneHotEncoder\n",
    "from sklearn.model_selection import train_test_split, GridSearchCV, StratifiedKFold\n",
    "\n",
    "from sklearn.metrics import classification_report, confusion_matrix\n",
    "\n",
    "# classification models\n",
    "from sklearn.svm import SVC\n",
    "from sklearn.neighbors import KNeighborsClassifier\n",
    "from sklearn.ensemble import RandomForestClassifier\n",
    "from xgboost import XGBClassifier\n",
    "\n",
    "import pickle"
   ]
  },
  {
   "cell_type": "markdown",
   "id": "c2762532-07ad-4d39-92e3-9de6174843f3",
   "metadata": {},
   "source": [
    "# Train different classification models to predict user type"
   ]
  },
  {
   "cell_type": "markdown",
   "id": "32cb5a64-bdc0-4fc3-adcb-d5feb313226b",
   "metadata": {},
   "source": [
    "## Load data"
   ]
  },
  {
   "cell_type": "code",
   "execution_count": 3,
   "id": "41125820-a600-4a8a-a97e-6412ad8b770f",
   "metadata": {},
   "outputs": [],
   "source": [
    "df = pd.read_csv('data/citibike2018_features.csv')"
   ]
  },
  {
   "cell_type": "code",
   "execution_count": 4,
   "id": "000f4c11-8bf5-4f09-b0eb-8efa794ba643",
   "metadata": {},
   "outputs": [
    {
     "data": {
      "text/plain": [
       "(17370335, 12)"
      ]
     },
     "execution_count": 4,
     "metadata": {},
     "output_type": "execute_result"
    }
   ],
   "source": [
    "df.shape"
   ]
  },
  {
   "cell_type": "code",
   "execution_count": 5,
   "id": "8beaed46-d792-4d3f-8cba-1ef72981f555",
   "metadata": {},
   "outputs": [
    {
     "data": {
      "text/html": [
       "<div>\n",
       "<style scoped>\n",
       "    .dataframe tbody tr th:only-of-type {\n",
       "        vertical-align: middle;\n",
       "    }\n",
       "\n",
       "    .dataframe tbody tr th {\n",
       "        vertical-align: top;\n",
       "    }\n",
       "\n",
       "    .dataframe thead th {\n",
       "        text-align: right;\n",
       "    }\n",
       "</style>\n",
       "<table border=\"1\" class=\"dataframe\">\n",
       "  <thead>\n",
       "    <tr style=\"text-align: right;\">\n",
       "      <th></th>\n",
       "      <th>tripduration</th>\n",
       "      <th>starthour</th>\n",
       "      <th>startday</th>\n",
       "      <th>startmonth</th>\n",
       "      <th>startweekday</th>\n",
       "      <th>isweekend</th>\n",
       "      <th>start station id</th>\n",
       "      <th>end station id</th>\n",
       "      <th>geodesic_distance</th>\n",
       "      <th>usertype</th>\n",
       "      <th>birth year</th>\n",
       "      <th>gender</th>\n",
       "    </tr>\n",
       "  </thead>\n",
       "  <tbody>\n",
       "    <tr>\n",
       "      <th>17370330</th>\n",
       "      <td>734</td>\n",
       "      <td>23</td>\n",
       "      <td>31</td>\n",
       "      <td>12</td>\n",
       "      <td>0</td>\n",
       "      <td>False</td>\n",
       "      <td>336.0</td>\n",
       "      <td>379.0</td>\n",
       "      <td>2.167842</td>\n",
       "      <td>Subscriber</td>\n",
       "      <td>1986</td>\n",
       "      <td>1</td>\n",
       "    </tr>\n",
       "    <tr>\n",
       "      <th>17370331</th>\n",
       "      <td>2551</td>\n",
       "      <td>23</td>\n",
       "      <td>31</td>\n",
       "      <td>12</td>\n",
       "      <td>0</td>\n",
       "      <td>False</td>\n",
       "      <td>3320.0</td>\n",
       "      <td>2006.0</td>\n",
       "      <td>3.327267</td>\n",
       "      <td>Customer</td>\n",
       "      <td>1969</td>\n",
       "      <td>0</td>\n",
       "    </tr>\n",
       "    <tr>\n",
       "      <th>17370332</th>\n",
       "      <td>2376</td>\n",
       "      <td>23</td>\n",
       "      <td>31</td>\n",
       "      <td>12</td>\n",
       "      <td>0</td>\n",
       "      <td>False</td>\n",
       "      <td>427.0</td>\n",
       "      <td>259.0</td>\n",
       "      <td>0.155175</td>\n",
       "      <td>Subscriber</td>\n",
       "      <td>1979</td>\n",
       "      <td>1</td>\n",
       "    </tr>\n",
       "    <tr>\n",
       "      <th>17370333</th>\n",
       "      <td>2758</td>\n",
       "      <td>23</td>\n",
       "      <td>31</td>\n",
       "      <td>12</td>\n",
       "      <td>0</td>\n",
       "      <td>False</td>\n",
       "      <td>3320.0</td>\n",
       "      <td>281.0</td>\n",
       "      <td>3.419638</td>\n",
       "      <td>Customer</td>\n",
       "      <td>1969</td>\n",
       "      <td>0</td>\n",
       "    </tr>\n",
       "    <tr>\n",
       "      <th>17370334</th>\n",
       "      <td>2459</td>\n",
       "      <td>23</td>\n",
       "      <td>31</td>\n",
       "      <td>12</td>\n",
       "      <td>0</td>\n",
       "      <td>False</td>\n",
       "      <td>128.0</td>\n",
       "      <td>402.0</td>\n",
       "      <td>1.856612</td>\n",
       "      <td>Subscriber</td>\n",
       "      <td>1996</td>\n",
       "      <td>2</td>\n",
       "    </tr>\n",
       "  </tbody>\n",
       "</table>\n",
       "</div>"
      ],
      "text/plain": [
       "          tripduration  starthour  startday  startmonth  startweekday  \\\n",
       "17370330           734         23        31          12             0   \n",
       "17370331          2551         23        31          12             0   \n",
       "17370332          2376         23        31          12             0   \n",
       "17370333          2758         23        31          12             0   \n",
       "17370334          2459         23        31          12             0   \n",
       "\n",
       "          isweekend  start station id  end station id  geodesic_distance  \\\n",
       "17370330      False             336.0           379.0           2.167842   \n",
       "17370331      False            3320.0          2006.0           3.327267   \n",
       "17370332      False             427.0           259.0           0.155175   \n",
       "17370333      False            3320.0           281.0           3.419638   \n",
       "17370334      False             128.0           402.0           1.856612   \n",
       "\n",
       "            usertype  birth year  gender  \n",
       "17370330  Subscriber        1986       1  \n",
       "17370331    Customer        1969       0  \n",
       "17370332  Subscriber        1979       1  \n",
       "17370333    Customer        1969       0  \n",
       "17370334  Subscriber        1996       2  "
      ]
     },
     "execution_count": 5,
     "metadata": {},
     "output_type": "execute_result"
    }
   ],
   "source": [
    "df.tail()"
   ]
  },
  {
   "cell_type": "markdown",
   "id": "de022b39-a173-4e4f-b75b-176a3a894f3c",
   "metadata": {},
   "source": [
    "## Create train-test-split"
   ]
  },
  {
   "cell_type": "code",
   "execution_count": 6,
   "id": "69b737a2-afdd-499e-a269-45f4e8f7f666",
   "metadata": {},
   "outputs": [],
   "source": [
    "X = df.drop(['usertype'], axis=1)\n",
    "y = df[\"usertype\"].map({'Subscriber':1 , 'Customer': 0})"
   ]
  },
  {
   "cell_type": "code",
   "execution_count": 7,
   "id": "143d24f6-a34c-45fd-86a6-a752d3529fa9",
   "metadata": {},
   "outputs": [],
   "source": [
    "X_train, X_test, y_train, y_test = train_test_split(X, y, test_size=0.2, random_state=42, stratify=y)"
   ]
  },
  {
   "cell_type": "markdown",
   "id": "6ab3cb01-2bcf-4b65-bc29-1f90bf823f78",
   "metadata": {},
   "source": [
    "## Create encodings"
   ]
  },
  {
   "cell_type": "code",
   "execution_count": 8,
   "id": "3723b6ea-5476-46ba-ab6b-2e3d3cb754c9",
   "metadata": {},
   "outputs": [],
   "source": [
    "# divide numerical and categorical columns\n",
    "num_cols = ['tripduration', 'geodesic_distance', 'birth year']\n",
    "cat_cols = ['starthour', 'startday', 'startmonth', 'startweekday', 'isweekend', 'start station id', 'end station id', 'gender']"
   ]
  },
  {
   "cell_type": "code",
   "execution_count": 9,
   "id": "dd4a9070-ebed-41c4-a757-a3ed3564a922",
   "metadata": {},
   "outputs": [],
   "source": [
    "# standard scaler for numerical columns\n",
    "numeric_transformer = StandardScaler()\n",
    "\n",
    "# one-hot encoding for categorical columns\n",
    "categorical_transformer = OneHotEncoder(handle_unknown=\"ignore\")\n",
    "\n",
    "# build preprocessing pipeline\n",
    "preprocessor = ColumnTransformer(\n",
    "    transformers=[\n",
    "        (\"num\", numeric_transformer, num_cols),\n",
    "        (\"cat\", categorical_transformer, cat_cols),\n",
    "    ]\n",
    ")"
   ]
  },
  {
   "cell_type": "markdown",
   "id": "79e451f6-1b0c-49f4-a8ee-0c79768cdd96",
   "metadata": {},
   "source": [
    "## Define candidate models"
   ]
  },
  {
   "cell_type": "code",
   "execution_count": 10,
   "id": "2ca569c3-8121-4c88-a849-4a20ef93b701",
   "metadata": {},
   "outputs": [],
   "source": [
    "# define search space of classification models\n",
    "search_space = [{'classifier': [SVC()]},\n",
    "                {'classifier': [RandomForestClassifier()]},\n",
    "                {'classifier': [KNeighborsClassifier()]},\n",
    "                {'classifier': [XGBClassifier()]}]"
   ]
  },
  {
   "cell_type": "markdown",
   "id": "7e035d49-49a7-47d4-aa03-9dbe8af2e6ee",
   "metadata": {},
   "source": [
    "## Define cross validation pipeline"
   ]
  },
  {
   "cell_type": "code",
   "execution_count": 11,
   "id": "d59d571c-9239-4e1f-95fd-c606fa3e5c65",
   "metadata": {},
   "outputs": [],
   "source": [
    "pipe = Pipeline(steps=[(\"preprocessor\", preprocessor), (\"classifier\", SVC())])"
   ]
  },
  {
   "cell_type": "markdown",
   "id": "2ccb9873-bdd8-4d0f-8a9d-88e2f086664c",
   "metadata": {},
   "source": [
    "## Create a smaller training data subset for faster model selection"
   ]
  },
  {
   "cell_type": "code",
   "execution_count": 17,
   "id": "dc5d2f62-fc88-4b56-ada3-426f89bad932",
   "metadata": {},
   "outputs": [],
   "source": [
    "X_small, _, y_small, _ = train_test_split(X_train, y_train, test_size=0.99, random_state=42, stratify=y_train)"
   ]
  },
  {
   "cell_type": "code",
   "execution_count": 18,
   "id": "2ff967c0-dac4-4397-9afc-c430af5c896f",
   "metadata": {},
   "outputs": [
    {
     "data": {
      "text/plain": [
       "(138962, 11)"
      ]
     },
     "execution_count": 18,
     "metadata": {},
     "output_type": "execute_result"
    }
   ],
   "source": [
    "X_small.shape"
   ]
  },
  {
   "cell_type": "markdown",
   "id": "6c93cf8e-1a17-43db-89a5-df0498320a0c",
   "metadata": {},
   "source": [
    "## Select model type with cross validation"
   ]
  },
  {
   "cell_type": "code",
   "execution_count": 71,
   "id": "282544e5-90c3-4857-a665-a177b3ca92b5",
   "metadata": {},
   "outputs": [],
   "source": [
    "clf = GridSearchCV(pipe, search_space, cv=StratifiedKFold(n_splits=2, shuffle=True, random_state=42), verbose=0, n_jobs=4)\n",
    "clf = clf.fit(X_small, y_small)"
   ]
  },
  {
   "cell_type": "code",
   "execution_count": 72,
   "id": "1784e6f9-8ff3-4703-aee3-805a405f6257",
   "metadata": {},
   "outputs": [
    {
     "data": {
      "text/plain": [
       "Pipeline(steps=[('preprocessor',\n",
       "                 ColumnTransformer(transformers=[('num', StandardScaler(),\n",
       "                                                  ['tripduration',\n",
       "                                                   'geodesic_distance',\n",
       "                                                   'birth year']),\n",
       "                                                 ('cat',\n",
       "                                                  OneHotEncoder(handle_unknown='ignore'),\n",
       "                                                  ['starthour', 'startday',\n",
       "                                                   'startmonth', 'startweekday',\n",
       "                                                   'isweekend',\n",
       "                                                   'start station id',\n",
       "                                                   'end station id',\n",
       "                                                   'gender'])])),\n",
       "                ('classifier',\n",
       "                 XGBClassifier(base_score=0.5, booster='gbtr...\n",
       "                               gamma=0, gpu_id=-1, grow_policy='depthwise',\n",
       "                               importance_type=None, interaction_constraints='',\n",
       "                               learning_rate=0.300000012, max_bin=256,\n",
       "                               max_cat_to_onehot=4, max_delta_step=0,\n",
       "                               max_depth=6, max_leaves=0, min_child_weight=1,\n",
       "                               missing=nan, monotone_constraints='()',\n",
       "                               n_estimators=100, n_jobs=0, num_parallel_tree=1,\n",
       "                               predictor='auto', random_state=0, reg_alpha=0,\n",
       "                               reg_lambda=1, ...))])"
      ]
     },
     "execution_count": 72,
     "metadata": {},
     "output_type": "execute_result"
    }
   ],
   "source": [
    "clf.best_estimator_"
   ]
  },
  {
   "cell_type": "code",
   "execution_count": 73,
   "id": "14c953ad-dc6f-4058-9b3c-9c92897f3e2b",
   "metadata": {},
   "outputs": [
    {
     "data": {
      "text/plain": [
       "0.9502813718858394"
      ]
     },
     "execution_count": 73,
     "metadata": {},
     "output_type": "execute_result"
    }
   ],
   "source": [
    "clf.best_score_"
   ]
  },
  {
   "cell_type": "code",
   "execution_count": 74,
   "id": "6fbfeab4-334c-4287-bfea-c7887832b1d9",
   "metadata": {},
   "outputs": [
    {
     "data": {
      "text/plain": [
       "{'mean_fit_time': array([1.83772707e+02, 3.63522195e+01, 8.46208334e-02, 1.26776803e+00]),\n",
       " 'std_fit_time': array([0.06137455, 0.07144892, 0.0002619 , 0.00281298]),\n",
       " 'mean_score_time': array([4.48435482e+01, 2.10101664e+00, 1.44682635e+02, 8.80674124e-02]),\n",
       " 'std_score_time': array([5.79112887e-01, 1.29839182e-02, 1.32362115e+00, 1.11472607e-03]),\n",
       " 'param_classifier': masked_array(data=[SVC(), RandomForestClassifier(),\n",
       "                    KNeighborsClassifier(),\n",
       "                    XGBClassifier(base_score=None, booster=None, callbacks=None,\n",
       "                                  colsample_bylevel=None, colsample_bynode=None,\n",
       "                                  colsample_bytree=None, early_stopping_rounds=None,\n",
       "                                  enable_categorical=False, eval_metric=None, gamma=None,\n",
       "                                  gpu_id=None, grow_policy=None, importance_type=None,\n",
       "                                  interaction_constraints=None, learning_rate=None, max_bin=None,\n",
       "                                  max_cat_to_onehot=None, max_delta_step=None, max_depth=None,\n",
       "                                  max_leaves=None, min_child_weight=None, missing=nan,\n",
       "                                  monotone_constraints=None, n_estimators=100, n_jobs=None,\n",
       "                                  num_parallel_tree=None, predictor=None, random_state=None,\n",
       "                                  reg_alpha=None, reg_lambda=None, ...)                          ],\n",
       "              mask=[False, False, False, False],\n",
       "        fill_value='?',\n",
       "             dtype=object),\n",
       " 'params': [{'classifier': SVC()},\n",
       "  {'classifier': RandomForestClassifier()},\n",
       "  {'classifier': KNeighborsClassifier()},\n",
       "  {'classifier': XGBClassifier(base_score=None, booster=None, callbacks=None,\n",
       "                 colsample_bylevel=None, colsample_bynode=None,\n",
       "                 colsample_bytree=None, early_stopping_rounds=None,\n",
       "                 enable_categorical=False, eval_metric=None, gamma=None,\n",
       "                 gpu_id=None, grow_policy=None, importance_type=None,\n",
       "                 interaction_constraints=None, learning_rate=None, max_bin=None,\n",
       "                 max_cat_to_onehot=None, max_delta_step=None, max_depth=None,\n",
       "                 max_leaves=None, min_child_weight=None, missing=nan,\n",
       "                 monotone_constraints=None, n_estimators=100, n_jobs=None,\n",
       "                 num_parallel_tree=None, predictor=None, random_state=None,\n",
       "                 reg_alpha=None, reg_lambda=None, ...)}],\n",
       " 'split0_test_score': array([0.94676242, 0.94771232, 0.94155237, 0.94915157]),\n",
       " 'split1_test_score': array([0.94854708, 0.94902203, 0.94159554, 0.95141118]),\n",
       " 'mean_test_score': array([0.94765475, 0.94836718, 0.94157396, 0.95028137]),\n",
       " 'std_test_score': array([8.92330277e-04, 6.54855284e-04, 2.15886357e-05, 1.12980527e-03]),\n",
       " 'rank_test_score': array([3, 2, 4, 1], dtype=int32)}"
      ]
     },
     "execution_count": 74,
     "metadata": {},
     "output_type": "execute_result"
    }
   ],
   "source": [
    "clf.cv_results_"
   ]
  },
  {
   "cell_type": "markdown",
   "id": "18090e4b-f241-47ea-bb1c-3568d8897001",
   "metadata": {},
   "source": [
    "## Tuning XGBClassifier"
   ]
  },
  {
   "cell_type": "code",
   "execution_count": 33,
   "id": "7dc8a492-6a55-4938-92c0-e971ba5c51e2",
   "metadata": {},
   "outputs": [],
   "source": [
    "# add classifier to param grid\n",
    "param_grid = {'classifier': [XGBClassifier()]}"
   ]
  },
  {
   "cell_type": "code",
   "execution_count": 39,
   "id": "50093869-c0f3-4985-8ff1-7a2affce349a",
   "metadata": {},
   "outputs": [],
   "source": [
    "param_grid.update({\n",
    "    \"classifier__max_depth\": [3, 4, 5, 7],\n",
    "    \"classifier__learning_rate\": [0.1, 0.01, 0.05],\n",
    "    \"classifier__gamma\": [0, 0.25, 1],\n",
    "    \"classifier__reg_lambda\": [0, 1, 10],\n",
    "    \"classifier__scale_pos_weight\": [1, 3, 5],\n",
    "    \"classifier__subsample\": [0.8],\n",
    "    \"classifier__colsample_bytree\": [0.5],\n",
    "})"
   ]
  },
  {
   "cell_type": "code",
   "execution_count": 40,
   "id": "19c87c98-8caf-4c7d-a443-5fbb1345eb0f",
   "metadata": {},
   "outputs": [],
   "source": [
    "tuning_pipe = Pipeline(steps=[(\"preprocessor\", preprocessor), (\"classifier\", XGBClassifier())])"
   ]
  },
  {
   "cell_type": "code",
   "execution_count": 41,
   "id": "4f737c82-7e36-48bc-9449-78dd39d2c4dc",
   "metadata": {},
   "outputs": [],
   "source": [
    "xgb_clf = GridSearchCV(tuning_pipe, param_grid, cv=StratifiedKFold(n_splits=4, shuffle=True, random_state=42), verbose=0, n_jobs=4)\n",
    "xgb_clf = xgb_clf.fit(X_small, y_small)"
   ]
  },
  {
   "cell_type": "code",
   "execution_count": 42,
   "id": "b139c595-7415-4202-8b99-08666bc1f343",
   "metadata": {},
   "outputs": [
    {
     "data": {
      "text/plain": [
       "0.9507851169631505"
      ]
     },
     "execution_count": 42,
     "metadata": {},
     "output_type": "execute_result"
    }
   ],
   "source": [
    "xgb_clf.best_score_"
   ]
  },
  {
   "cell_type": "markdown",
   "id": "247822a5-ff38-4f22-b23a-c3c0236f49d9",
   "metadata": {},
   "source": [
    "## Train XGB on full training data"
   ]
  },
  {
   "cell_type": "code",
   "execution_count": 60,
   "id": "4106a70a-e152-4066-9f14-bf8047d92473",
   "metadata": {},
   "outputs": [],
   "source": [
    "xgb_best_params = xgb_clf.best_estimator_['classifier'].get_params()"
   ]
  },
  {
   "cell_type": "code",
   "execution_count": 61,
   "id": "290de00f-d8a1-4d6b-bec1-7a91c6ddb91a",
   "metadata": {},
   "outputs": [
    {
     "data": {
      "text/plain": [
       "{'objective': 'binary:logistic',\n",
       " 'use_label_encoder': False,\n",
       " 'base_score': 0.5,\n",
       " 'booster': 'gbtree',\n",
       " 'callbacks': None,\n",
       " 'colsample_bylevel': 1,\n",
       " 'colsample_bynode': 1,\n",
       " 'colsample_bytree': 0.5,\n",
       " 'early_stopping_rounds': None,\n",
       " 'enable_categorical': False,\n",
       " 'eval_metric': None,\n",
       " 'gamma': 0.25,\n",
       " 'gpu_id': -1,\n",
       " 'grow_policy': 'depthwise',\n",
       " 'importance_type': None,\n",
       " 'interaction_constraints': '',\n",
       " 'learning_rate': 0.1,\n",
       " 'max_bin': 256,\n",
       " 'max_cat_to_onehot': 4,\n",
       " 'max_delta_step': 0,\n",
       " 'max_depth': 7,\n",
       " 'max_leaves': 0,\n",
       " 'min_child_weight': 1,\n",
       " 'missing': nan,\n",
       " 'monotone_constraints': '()',\n",
       " 'n_estimators': 100,\n",
       " 'n_jobs': 0,\n",
       " 'num_parallel_tree': 1,\n",
       " 'predictor': 'auto',\n",
       " 'random_state': 0,\n",
       " 'reg_alpha': 0,\n",
       " 'reg_lambda': 1,\n",
       " 'sampling_method': 'uniform',\n",
       " 'scale_pos_weight': 1,\n",
       " 'subsample': 0.8,\n",
       " 'tree_method': 'exact',\n",
       " 'validate_parameters': 1,\n",
       " 'verbosity': None}"
      ]
     },
     "execution_count": 61,
     "metadata": {},
     "output_type": "execute_result"
    }
   ],
   "source": [
    "xgb_best_params"
   ]
  },
  {
   "cell_type": "code",
   "execution_count": 62,
   "id": "52fded2e-12bc-4602-acbe-55b1e469c0f3",
   "metadata": {},
   "outputs": [],
   "source": [
    "xgb_final = XGBClassifier()"
   ]
  },
  {
   "cell_type": "code",
   "execution_count": 63,
   "id": "e91bc105-c972-4c86-89b5-b2ada74afd88",
   "metadata": {},
   "outputs": [
    {
     "data": {
      "text/plain": [
       "XGBClassifier(base_score=0.5, booster='gbtree', callbacks=None,\n",
       "              colsample_bylevel=1, colsample_bynode=1, colsample_bytree=0.5,\n",
       "              early_stopping_rounds=None, enable_categorical=False,\n",
       "              eval_metric=None, gamma=0.25, gpu_id=-1, grow_policy='depthwise',\n",
       "              importance_type=None, interaction_constraints='',\n",
       "              learning_rate=0.1, max_bin=256, max_cat_to_onehot=4,\n",
       "              max_delta_step=0, max_depth=7, max_leaves=0, min_child_weight=1,\n",
       "              missing=nan, monotone_constraints='()', n_estimators=100,\n",
       "              n_jobs=0, num_parallel_tree=1, predictor='auto', random_state=0,\n",
       "              reg_alpha=0, reg_lambda=1, ...)"
      ]
     },
     "execution_count": 63,
     "metadata": {},
     "output_type": "execute_result"
    }
   ],
   "source": [
    "xgb_final.set_params(**xgb_best_params)"
   ]
  },
  {
   "cell_type": "code",
   "execution_count": 65,
   "id": "52aa427b-5e9e-4089-a063-11aa8b3d508a",
   "metadata": {},
   "outputs": [],
   "source": [
    "pipe_final = Pipeline(steps=[(\"preprocessor\", preprocessor), (\"classifier\", xgb_final)])"
   ]
  },
  {
   "cell_type": "code",
   "execution_count": 66,
   "id": "9227cc20-e003-4b81-8906-af8ec06a39b2",
   "metadata": {},
   "outputs": [
    {
     "data": {
      "text/plain": [
       "Pipeline(steps=[('preprocessor',\n",
       "                 ColumnTransformer(transformers=[('num', StandardScaler(),\n",
       "                                                  ['tripduration',\n",
       "                                                   'geodesic_distance',\n",
       "                                                   'birth year']),\n",
       "                                                 ('cat',\n",
       "                                                  OneHotEncoder(handle_unknown='ignore'),\n",
       "                                                  ['starthour', 'startday',\n",
       "                                                   'startmonth', 'startweekday',\n",
       "                                                   'isweekend',\n",
       "                                                   'start station id',\n",
       "                                                   'end station id',\n",
       "                                                   'gender'])])),\n",
       "                ('classifier',\n",
       "                 XGBClassifier(base_score=0.5, booster='gbtr...\n",
       "                               gamma=0.25, gpu_id=-1, grow_policy='depthwise',\n",
       "                               importance_type=None, interaction_constraints='',\n",
       "                               learning_rate=0.1, max_bin=256,\n",
       "                               max_cat_to_onehot=4, max_delta_step=0,\n",
       "                               max_depth=7, max_leaves=0, min_child_weight=1,\n",
       "                               missing=nan, monotone_constraints='()',\n",
       "                               n_estimators=100, n_jobs=0, num_parallel_tree=1,\n",
       "                               predictor='auto', random_state=0, reg_alpha=0,\n",
       "                               reg_lambda=1, ...))])"
      ]
     },
     "execution_count": 66,
     "metadata": {},
     "output_type": "execute_result"
    }
   ],
   "source": [
    "pipe_final.fit(X_train, y_train)"
   ]
  },
  {
   "cell_type": "code",
   "execution_count": 67,
   "id": "6f9a77ff-7fc6-4c65-a306-fe34b77b4635",
   "metadata": {},
   "outputs": [],
   "source": [
    "y_pred = pipe_final.predict(X_test)"
   ]
  },
  {
   "cell_type": "code",
   "execution_count": 89,
   "id": "7a7dc0e7-e158-44d1-9f09-fe732b223232",
   "metadata": {},
   "outputs": [
    {
     "name": "stdout",
     "output_type": "stream",
     "text": [
      "              precision    recall  f1-score   support\n",
      "\n",
      "    Customer       0.89      0.62      0.73    361270\n",
      "  Subscriber       0.96      0.99      0.97   3112797\n",
      "\n",
      "    accuracy                           0.95   3474067\n",
      "   macro avg       0.92      0.80      0.85   3474067\n",
      "weighted avg       0.95      0.95      0.95   3474067\n",
      "\n"
     ]
    }
   ],
   "source": [
    "print(classification_report(y_test, y_pred, target_names=['Customer', 'Subscriber']))"
   ]
  },
  {
   "cell_type": "code",
   "execution_count": 90,
   "id": "e69350b9-92f4-4b15-8430-ada5cacabf45",
   "metadata": {},
   "outputs": [
    {
     "name": "stderr",
     "output_type": "stream",
     "text": [
      "/home/sibu/.conda/envs/citibike/lib/python3.7/site-packages/sklearn/utils/deprecation.py:87: FutureWarning: Function plot_confusion_matrix is deprecated; Function `plot_confusion_matrix` is deprecated in 1.0 and will be removed in 1.2. Use one of the class methods: ConfusionMatrixDisplay.from_predictions or ConfusionMatrixDisplay.from_estimator.\n",
      "  warnings.warn(msg, category=FutureWarning)\n"
     ]
    },
    {
     "data": {
      "text/plain": [
       "<sklearn.metrics._plot.confusion_matrix.ConfusionMatrixDisplay at 0x7fec0c32ee10>"
      ]
     },
     "execution_count": 90,
     "metadata": {},
     "output_type": "execute_result"
    },
    {
     "data": {
      "image/png": "[encoded data removed]",
      "text/plain": [
       "<Figure size 432x288 with 2 Axes>"
      ]
     },
     "metadata": {
      "needs_background": "light"
     },
     "output_type": "display_data"
    }
   ],
   "source": [
    "plot_confusion_matrix(pipe_final, X_test, y_test, display_labels=['Customer', 'Subscriber'], normalize='pred')  "
   ]
  },
  {
   "cell_type": "code",
   "execution_count": 99,
   "id": "a8444ad9-f054-49db-8320-9516301ab1c0",
   "metadata": {},
   "outputs": [],
   "source": [
    "# save final pipeline\n",
    "#pickle.dump(pipe_final, open('tuned_xgb_model.pkl', 'wb'))"
   ]
  },
  {
   "cell_type": "code",
   "execution_count": null,
   "id": "224ae9f4-0661-4c52-87e3-177795a74702",
   "metadata": {},
   "outputs": [],
   "source": []
  }
 ],
 "metadata": {
  "kernelspec": {
   "display_name": "citibike",
   "language": "python",
   "name": "citibike"
  },
  "language_info": {
   "codemirror_mode": {
    "name": "ipython",
    "version": 3
   },
   "file_extension": ".py",
   "mimetype": "text/x-python",
   "name": "python",
   "nbconvert_exporter": "python",
   "pygments_lexer": "ipython3",
   "version": "3.7.13"
  }
 },
 "nbformat": 4,
 "nbformat_minor": 5
}
