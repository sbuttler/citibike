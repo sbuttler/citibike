{
 "cells": [
  {
   "cell_type": "code",
   "execution_count": 1,
   "id": "0f70a677-c4cd-4546-b570-f9438b92368e",
   "metadata": {},
   "outputs": [],
   "source": [
    "# enable autocomplete\n",
    "%config Completer.use_jedi = False"
   ]
  },
  {
   "cell_type": "code",
   "execution_count": 2,
   "id": "2f234213-74ca-4aef-b245-cf7c7eecbc1d",
   "metadata": {},
   "outputs": [],
   "source": [
    "import pandas as pd\n",
    "import numpy as np\n",
    "\n",
    "import googlemaps\n",
    "\n",
    "from datetime import datetime, timedelta\n",
    "\n",
    "import matplotlib.pyplot as plt\n",
    "import seaborn as sns"
   ]
  },
  {
   "cell_type": "markdown",
   "id": "0ec1bdd4-57a0-4718-89b2-ed6dd8dd4166",
   "metadata": {},
   "source": [
    "# Compare bike ride times to taxi and metro"
   ]
  },
  {
   "cell_type": "markdown",
   "id": "03fa691e-0c46-4f17-9918-6c0db2149921",
   "metadata": {},
   "source": [
    "## Read data and select subset of 200 rides"
   ]
  },
  {
   "cell_type": "code",
   "execution_count": null,
   "id": "b6eda978-1e0f-4021-b2b8-ece55fd066e3",
   "metadata": {},
   "outputs": [],
   "source": [
    "df_full = pd.read_csv('data/citibike2018_clean.csv')"
   ]
  },
  {
   "cell_type": "code",
   "execution_count": null,
   "id": "50f0df59-09fd-435c-9ba1-ffd031d364d5",
   "metadata": {},
   "outputs": [],
   "source": [
    "df = df_full.loc[df_full['usertype']=='Subscriber',:].sample(200, random_state=42)"
   ]
  },
  {
   "cell_type": "code",
   "execution_count": null,
   "id": "85adc447-e0a6-4b85-9fd5-db30e6cb4dcc",
   "metadata": {},
   "outputs": [],
   "source": [
    "#df.to_csv('data/citibike2018_subset.csv', index=False)"
   ]
  },
  {
   "cell_type": "markdown",
   "id": "e97233d9-d4f4-4c58-a1f6-4cff9e0ff744",
   "metadata": {},
   "source": [
    "## Setup API access"
   ]
  },
  {
   "cell_type": "code",
   "execution_count": 4,
   "id": "4c482112-345c-4aec-a9d5-baa407be6e2f",
   "metadata": {},
   "outputs": [],
   "source": [
    "with open('Api_key.txt') as f:\n",
    "    api_key = f.readline()\n",
    "    f.close"
   ]
  },
  {
   "cell_type": "code",
   "execution_count": 5,
   "id": "e086d126-6dc2-4f7f-8f0a-41086b84a6db",
   "metadata": {},
   "outputs": [],
   "source": [
    "gmaps = googlemaps.Client(key=api_key)"
   ]
  },
  {
   "cell_type": "markdown",
   "id": "9e850171-46f9-4b7c-94c2-6aaaf8873771",
   "metadata": {},
   "source": [
    "## Compute travel times for bicycling, transit and driving"
   ]
  },
  {
   "cell_type": "code",
   "execution_count": 6,
   "id": "21e87a6a-71c9-483d-8486-045cc379919d",
   "metadata": {},
   "outputs": [],
   "source": [
    "def get_travel_times(start_lat, start_lon, end_lat, end_lon, departure_time):\n",
    "    \n",
    "    ''' Returns travel times in minutes between start and end coordinates for transportation modes \"bike\", \"transit\" and \"taxi\" '''\n",
    "    \n",
    "    directions_bicycling = gmaps.directions((start_lat,start_lon), (end_lat,end_lon), mode=\"bicycling\", departure_time=departure_time)\n",
    "    directions_transit = gmaps.directions((start_lat,start_lon), (end_lat,end_lon), mode=\"transit\", departure_time=departure_time)\n",
    "    directions_driving = gmaps.directions((start_lat,start_lon), (end_lat,end_lon), mode=\"driving\", departure_time=departure_time)\n",
    "    \n",
    "    try:\n",
    "        duration_bicycling = int(directions_bicycling[0]['legs'][0]['duration']['value']/60)\n",
    "        duration_transit = int(directions_transit[0]['legs'][0]['duration']['value']/60)\n",
    "        duration_driving = int(directions_driving[0]['legs'][0]['duration']['value']/60)\n",
    "    \n",
    "    except:\n",
    "        \n",
    "        if (start_lat == end_lat) & (start_lon == end_lon):\n",
    "            duration_bicycling = 0\n",
    "            duration_transit = 0\n",
    "            duration_driving = 0\n",
    "        else:\n",
    "            print(start_lat, start_lon, end_lat, end_lon, departure_time)\n",
    "    \n",
    "    return duration_bicycling, duration_transit, duration_driving\n",
    "    "
   ]
  },
  {
   "cell_type": "markdown",
   "id": "65ff5705-3727-42ab-9366-436ba06f17de",
   "metadata": {},
   "source": [
    "NOTE: API does not return directions for past times. Therefore, all API requests are made for tomorrow's date"
   ]
  },
  {
   "cell_type": "code",
   "execution_count": 7,
   "id": "4ce392e2-4223-4b53-bc8f-75e4ef1cdc49",
   "metadata": {},
   "outputs": [],
   "source": [
    "# extract time from starttime\n",
    "df['departure_time'] = pd.to_datetime(df['starttime']).dt.time\n",
    "\n",
    "# set departure to tomorrow at departure time\n",
    "tomorrow = datetime.now().date() + timedelta(days=1)\n",
    "df['departure'] = [datetime.combine(tomorrow, t) for t in df['departure_time']]"
   ]
  },
  {
   "cell_type": "code",
   "execution_count": 8,
   "id": "88e7249f-1962-4e3d-acd7-b9be1af4f5ad",
   "metadata": {},
   "outputs": [],
   "source": [
    "# compute travel times\n",
    "df[['duration_bicycling','duration_transit','duration_driving']] = df.apply(lambda row: get_travel_times(row['start station latitude'], row['start station longitude'], row['end station latitude'], row['end station longitude'], row['departure']) , axis=1, result_type='expand')"
   ]
  },
  {
   "cell_type": "code",
   "execution_count": 9,
   "id": "121893c1-41a0-41c6-8e89-1a5ce123cea5",
   "metadata": {},
   "outputs": [],
   "source": [
    "#df.to_csv('data/citibike2018_traveltimes.csv', index=False)"
   ]
  },
  {
   "cell_type": "markdown",
   "id": "67e4caca-8bc5-4eb3-b127-2270b8f1abd9",
   "metadata": {},
   "source": [
    "## Analyze and plot results"
   ]
  },
  {
   "cell_type": "code",
   "execution_count": 10,
   "id": "1e4d7cb9-5b06-40f2-9e07-b741fd6140d3",
   "metadata": {},
   "outputs": [],
   "source": [
    "# compute when bicycling is faster\n",
    "df['bicycling_faster_than_transit'] = df['duration_bicycling'] <= df['duration_transit']\n",
    "df['bicycling_faster_than_driving'] = df['duration_bicycling'] <= df['duration_driving']\n",
    "\n",
    "# compute when bicycling takes equal time\n",
    "df['bicycling_equal_transit'] = df['duration_bicycling'] == df['duration_transit']\n",
    "df['bicycling_equal_driving'] = df['duration_bicycling'] == df['duration_driving']"
   ]
  },
  {
   "cell_type": "markdown",
   "id": "9b8df559-19c9-438a-a378-808ab66220c0",
   "metadata": {},
   "source": [
    "### How often is bicycling faster than transit?"
   ]
  },
  {
   "cell_type": "code",
   "execution_count": 11,
   "id": "bbbb1ceb-ee3a-454e-bbf7-98724bae50ed",
   "metadata": {},
   "outputs": [
    {
     "data": {
      "text/plain": [
       "<AxesSubplot:xlabel='bicycling_faster_than_transit'>"
      ]
     },
     "execution_count": 11,
     "metadata": {},
     "output_type": "execute_result"
    },
    {
     "data": {
      "image/png": "[encoded data removed]",
      "text/plain": [
       "<Figure size 432x288 with 1 Axes>"
      ]
     },
     "metadata": {
      "needs_background": "light"
     },
     "output_type": "display_data"
    }
   ],
   "source": [
    "df_plot = df.groupby(['bicycling_faster_than_transit','bicycling_equal_transit']).size().reset_index().pivot(columns='bicycling_equal_transit', index='bicycling_faster_than_transit', values=0)\n",
    "df_plot.plot(kind='bar', stacked=True)"
   ]
  },
  {
   "cell_type": "markdown",
   "id": "3cfb56e6-3315-4030-81aa-c9db352057fe",
   "metadata": {},
   "source": [
    "### How often is bicycling faster than driving?"
   ]
  },
  {
   "cell_type": "code",
   "execution_count": 12,
   "id": "2aa761de-5f3a-40b3-a9e7-8ed4b2cb23a2",
   "metadata": {},
   "outputs": [
    {
     "data": {
      "text/plain": [
       "<AxesSubplot:xlabel='bicycling_faster_than_driving'>"
      ]
     },
     "execution_count": 12,
     "metadata": {},
     "output_type": "execute_result"
    },
    {
     "data": {
      "image/png": "[encoded data removed]",
      "text/plain": [
       "<Figure size 432x288 with 1 Axes>"
      ]
     },
     "metadata": {
      "needs_background": "light"
     },
     "output_type": "display_data"
    }
   ],
   "source": [
    "df_plot = df.groupby(['bicycling_faster_than_driving','bicycling_equal_driving']).size().reset_index().pivot(columns='bicycling_equal_driving', index='bicycling_faster_than_driving', values=0)\n",
    "df_plot.plot(kind='bar', stacked=True)"
   ]
  },
  {
   "cell_type": "code",
   "execution_count": null,
   "id": "5d00e7f2-a0df-4e83-848b-6b4edbefa4e4",
   "metadata": {},
   "outputs": [],
   "source": []
  }
 ],
 "metadata": {
  "kernelspec": {
   "display_name": "citibike",
   "language": "python",
   "name": "citibike"
  },
  "language_info": {
   "codemirror_mode": {
    "name": "ipython",
    "version": 3
   },
   "file_extension": ".py",
   "mimetype": "text/x-python",
   "name": "python",
   "nbconvert_exporter": "python",
   "pygments_lexer": "ipython3",
   "version": "3.7.13"
  }
 },
 "nbformat": 4,
 "nbformat_minor": 5
}
