{
 "cells": [
  {
   "cell_type": "code",
   "execution_count": 1,
   "id": "b08b3320-e03b-406e-b6e4-a91b208eb69b",
   "metadata": {},
   "outputs": [],
   "source": [
    "# enable autocomplete\n",
    "%config Completer.use_jedi = False"
   ]
  },
  {
   "cell_type": "code",
   "execution_count": 2,
   "id": "fd0ff9e3-242a-4c2b-a26a-bf80f1cacd34",
   "metadata": {},
   "outputs": [],
   "source": [
    "import pandas as pd\n",
    "import numpy as np\n",
    "\n",
    "from geopy import distance"
   ]
  },
  {
   "cell_type": "markdown",
   "id": "3a72dd34-dc88-46ce-9192-0f01124464a6",
   "metadata": {},
   "source": [
    "# Create features as input for customer-subscriber classfication model"
   ]
  },
  {
   "cell_type": "markdown",
   "id": "3de8bcde-5a6a-419e-8888-01d03976465e",
   "metadata": {},
   "source": [
    "## Read data"
   ]
  },
  {
   "cell_type": "code",
   "execution_count": 3,
   "id": "18c40c62-dbda-4aec-b760-a96eb0fcc88d",
   "metadata": {},
   "outputs": [],
   "source": [
    "df = pd.read_csv('data/citibike2018_clean.csv')"
   ]
  },
  {
   "cell_type": "markdown",
   "id": "3d1f53bf-5dcb-450c-8327-310242fa83e8",
   "metadata": {},
   "source": [
    "## Extract features from start time"
   ]
  },
  {
   "cell_type": "code",
   "execution_count": 4,
   "id": "0e0d0ad1-6b34-473c-9033-64987707d676",
   "metadata": {},
   "outputs": [],
   "source": [
    "# extract hour, day, weekday and month from starttime\n",
    "\n",
    "df['starthour'] = pd.to_datetime(df['starttime']).dt.hour\n",
    "df['startday'] = pd.to_datetime(df['starttime']).dt.day\n",
    "df['startmonth'] = pd.to_datetime(df['starttime']).dt.month\n",
    "df['startweekday'] = pd.to_datetime(df['starttime']).dt.weekday"
   ]
  },
  {
   "cell_type": "code",
   "execution_count": 5,
   "id": "57ccb61d-68ac-4911-b2d1-a6d7d691d31e",
   "metadata": {},
   "outputs": [],
   "source": [
    "# create weekend feature\n",
    "\n",
    "df['isweekend'] = df['startweekday'].isin([5,6])"
   ]
  },
  {
   "cell_type": "markdown",
   "id": "38274a30-d1a7-45d5-adaf-4e3d2f8f5625",
   "metadata": {},
   "source": [
    "## Calculate distance between start and end"
   ]
  },
  {
   "cell_type": "code",
   "execution_count": null,
   "id": "8470fe23-b68e-4f47-b078-7d4ee26cb542",
   "metadata": {},
   "outputs": [],
   "source": [
    "df['geodesic_distance'] = df.apply(lambda row:distance.distance((row['start station latitude'],row['start station longitude']), (row['end station latitude'],row['end station longitude'])).km, axis=1)"
   ]
  },
  {
   "cell_type": "markdown",
   "id": "bffb37ca-0e46-4575-9d32-12ad0321e5b5",
   "metadata": {},
   "source": [
    "## Select features for customer-subscriber model"
   ]
  },
  {
   "cell_type": "code",
   "execution_count": null,
   "id": "073fb7d6-6d6d-4832-81a6-77971bf18751",
   "metadata": {},
   "outputs": [],
   "source": [
    "col_sel = ['tripduration', 'starthour', 'startday', 'startmonth', 'startweekday', 'isweekend', \n",
    "           'start station id','end station id', 'geodesic_distance', 'usertype', 'birth year', 'gender']"
   ]
  },
  {
   "cell_type": "code",
   "execution_count": null,
   "id": "04b2a54a-a5c5-4283-a982-c9729e6e1128",
   "metadata": {},
   "outputs": [],
   "source": [
    "df_sel = df.loc[:,col_sel]"
   ]
  },
  {
   "cell_type": "code",
   "execution_count": null,
   "id": "688fe54e-8923-4f38-b2b9-b6969a398024",
   "metadata": {},
   "outputs": [],
   "source": [
    "# Save\n",
    "df_sel.to_csv('data/citibike2018_features.csv', index=False)"
   ]
  },
  {
   "cell_type": "code",
   "execution_count": null,
   "id": "a2b3aaee-3b96-41bf-93b8-f28a3627146f",
   "metadata": {},
   "outputs": [],
   "source": []
  }
 ],
 "metadata": {
  "kernelspec": {
   "display_name": "citibike",
   "language": "python",
   "name": "citibike"
  },
  "language_info": {
   "codemirror_mode": {
    "name": "ipython",
    "version": 3
   },
   "file_extension": ".py",
   "mimetype": "text/x-python",
   "name": "python",
   "nbconvert_exporter": "python",
   "pygments_lexer": "ipython3",
   "version": "3.7.13"
  }
 },
 "nbformat": 4,
 "nbformat_minor": 5
}
